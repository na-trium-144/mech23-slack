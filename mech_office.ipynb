{
 "cells": [
  {
   "cell_type": "code",
   "execution_count": 49,
   "id": "964b8cad-7983-4ace-9d04-38c489ade539",
   "metadata": {
    "tags": []
   },
   "outputs": [
    {
     "name": "stdout",
     "output_type": "stream",
     "text": [
      "[NbConvertApp] Converting notebook mech_office.ipynb to script\n",
      "[NbConvertApp] Writing 2191 bytes to mech_office.py\n"
     ]
    }
   ],
   "source": [
    "!jupyter nbconvert mech_office.ipynb --to script"
   ]
  },
  {
   "cell_type": "code",
   "execution_count": 10,
   "id": "ca2a217b-b040-487f-bc76-8c0202dfd995",
   "metadata": {
    "tags": []
   },
   "outputs": [],
   "source": [
    "from dotenv import load_dotenv\n",
    "load_dotenv()  # take environment variables from .env.\n",
    "import os"
   ]
  },
  {
   "cell_type": "code",
   "execution_count": 1,
   "id": "2503e26a-7755-45ba-a8dd-b81242fdc7a8",
   "metadata": {
    "tags": []
   },
   "outputs": [],
   "source": [
    "import requests"
   ]
  },
  {
   "cell_type": "code",
   "execution_count": 14,
   "id": "6b43acf0-49d9-4bbb-b440-54f08c1e47d5",
   "metadata": {
    "tags": []
   },
   "outputs": [],
   "source": [
    "from bs4 import BeautifulSoup"
   ]
  },
  {
   "cell_type": "code",
   "execution_count": 28,
   "id": "a8a56daf-1421-4284-a874-9da29ad0b1d7",
   "metadata": {
    "tags": []
   },
   "outputs": [],
   "source": [
    "from slack_sdk import WebClient\n",
    "from slack_sdk.errors import SlackApiError"
   ]
  },
  {
   "cell_type": "code",
   "execution_count": 5,
   "id": "a27e4ab2-e9ff-4d75-ab8b-5827479b07bc",
   "metadata": {
    "tags": []
   },
   "outputs": [],
   "source": [
    "session = requests.session()"
   ]
  },
  {
   "cell_type": "code",
   "execution_count": 11,
   "id": "3f460b9a-517a-45c5-a315-4c517950e49a",
   "metadata": {
    "tags": []
   },
   "outputs": [],
   "source": [
    "payload = {\n",
    "    \"password_protected_pwd\": os.environ.get(\"OFFICE_LOGIN_PASSWD\"),\n",
    "    \"wp-submit\": \"ログイン\",\n",
    "    \"password_protected_cookie_test\": 1,\n",
    "    \"password-protected\": \"login\",\n",
    "    \"redirect_to\": os.environ.get(\"OFFICE_URL\"),\n",
    "}\n",
    "res = session.post(os.environ.get(\"OFFICE_LOGIN_URL\"), data=payload)"
   ]
  },
  {
   "cell_type": "code",
   "execution_count": 15,
   "id": "7235d071-9300-4c97-994b-3e4e9e1c59da",
   "metadata": {
    "tags": []
   },
   "outputs": [],
   "source": [
    "soup = BeautifulSoup(res.text, 'html.parser')"
   ]
  },
  {
   "cell_type": "code",
   "execution_count": 27,
   "id": "8a940e22-4b73-4d67-ad28-d119d7c104a0",
   "metadata": {
    "tags": []
   },
   "outputs": [],
   "source": [
    "parsed_posts = []\n",
    "for post in soup.select(\".post\"):\n",
    "    parsed_posts.append({\n",
    "        \"pid\": post[\"id\"],\n",
    "        \"title\": post.select_one(\".post-title\").a.get_text(),\n",
    "        \"href\": post.select_one(\".post-title\").a[\"href\"],\n",
    "        \"content\": post.select_one(\".post-content\").get_text(\" \"),\n",
    "    })\n",
    "# print(parsed_posts)"
   ]
  },
  {
   "cell_type": "code",
   "execution_count": 29,
   "id": "97dcf6fd-6f2e-46f8-8cd2-a7e7f2cdab63",
   "metadata": {
    "tags": []
   },
   "outputs": [],
   "source": [
    "client = WebClient(token=os.environ.get(\"SLACK_BOT_TOKEN\"))"
   ]
  },
  {
   "cell_type": "code",
   "execution_count": 44,
   "id": "2ede4c0c-b6a9-494b-8fdb-9878a8ddb6e8",
   "metadata": {
    "tags": []
   },
   "outputs": [],
   "source": [
    "channel_id = \"C04UNBSBRJT\"\n",
    "channel_id_notice = \"C04VCJWTVFE\""
   ]
  },
  {
   "cell_type": "code",
   "execution_count": 48,
   "id": "ceef1fea-8aed-4e11-b497-bbb2dcaeae18",
   "metadata": {
    "tags": []
   },
   "outputs": [],
   "source": [
    "for post in parsed_posts:\n",
    "    new_post = f\"<{post['href']}|*{post['title']}*>\\n\\n{post['content']}\"\n",
    "    prev_post = \"\"\n",
    "    filename = f\"./mech_office_posts/{post['pid']}.txt\"\n",
    "    if os.path.exists(filename):\n",
    "        with open(filename, \"r\") as f:\n",
    "            prev_post = f.read()\n",
    "    with open(filename, \"w\") as f:\n",
    "        f.write(new_post)\n",
    "    try:\n",
    "        if new_post != prev_post:\n",
    "            result = client.chat_postMessage(\n",
    "                channel=channel_id,\n",
    "                text=f\"{post['pid']} changed\"\n",
    "            )\n",
    "            result = client.chat_postMessage(\n",
    "                channel=channel_id_notice,\n",
    "                text=new_post\n",
    "            )\n",
    "        else:\n",
    "            result = client.chat_postMessage(\n",
    "                channel=channel_id,\n",
    "                text=f\"{post['pid']} not changed\"\n",
    "            )\n",
    "    except SlackApiError as e:\n",
    "        print(f\"Error: {e}\")"
   ]
  }
 ],
 "metadata": {
  "kernelspec": {
   "display_name": "Python 3 (ipykernel)",
   "language": "python",
   "name": "python3"
  },
  "language_info": {
   "codemirror_mode": {
    "name": "ipython",
    "version": 3
   },
   "file_extension": ".py",
   "mimetype": "text/x-python",
   "name": "python",
   "nbconvert_exporter": "python",
   "pygments_lexer": "ipython3",
   "version": "3.11.2"
  }
 },
 "nbformat": 4,
 "nbformat_minor": 5
}
