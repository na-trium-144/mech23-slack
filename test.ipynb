{
 "cells": [
  {
   "cell_type": "code",
   "execution_count": 1,
   "id": "3ebaacc7-ce3f-4da8-8dc0-b3471dc50245",
   "metadata": {
    "tags": []
   },
   "outputs": [
    {
     "data": {
      "text/plain": [
       "True"
      ]
     },
     "execution_count": 1,
     "metadata": {},
     "output_type": "execute_result"
    }
   ],
   "source": [
    "from dotenv import load_dotenv\n",
    "load_dotenv()  # take environment variables from .env."
   ]
  },
  {
   "cell_type": "code",
   "execution_count": 4,
   "id": "1ca7c937-840b-4944-94dc-87e60a6733c4",
   "metadata": {
    "tags": []
   },
   "outputs": [],
   "source": [
    "import os\n",
    "from slack_sdk import WebClient\n",
    "from slack_sdk.errors import SlackApiError"
   ]
  },
  {
   "cell_type": "code",
   "execution_count": 5,
   "id": "22cf91c4-21b0-41c5-b9ea-fa07b1e86a28",
   "metadata": {
    "tags": []
   },
   "outputs": [],
   "source": [
    "# WebClient instantiates a client that can call API methods\n",
    "# When using Bolt, you can use either `app.client` or the `client` passed to listeners.\n",
    "client = WebClient(token=os.environ.get(\"SLACK_BOT_TOKEN\"))"
   ]
  },
  {
   "cell_type": "code",
   "execution_count": 7,
   "id": "b121a170-836f-49c7-9606-b78f1af433ce",
   "metadata": {
    "tags": []
   },
   "outputs": [],
   "source": [
    "channel_id = \"C04UNBSBRJT\""
   ]
  },
  {
   "cell_type": "code",
   "execution_count": 8,
   "id": "a88fab13-5630-4823-aed1-6a47b232dac5",
   "metadata": {
    "tags": []
   },
   "outputs": [],
   "source": [
    "try:\n",
    "    # Call the conversations.list method using the WebClient\n",
    "    result = client.chat_postMessage(\n",
    "        channel=channel_id,\n",
    "        text=\"Hello world!\"\n",
    "        # You could also use a blocks[] array to send richer content\n",
    "    )\n",
    "    # Print result, which includes information about the message (like TS)\n",
    "    # print(result)\n",
    "\n",
    "except SlackApiError as e:\n",
    "    print(f\"Error: {e}\")"
   ]
  }
 ],
 "metadata": {
  "kernelspec": {
   "display_name": "Python 3 (ipykernel)",
   "language": "python",
   "name": "python3"
  },
  "language_info": {
   "codemirror_mode": {
    "name": "ipython",
    "version": 3
   },
   "file_extension": ".py",
   "mimetype": "text/x-python",
   "name": "python",
   "nbconvert_exporter": "python",
   "pygments_lexer": "ipython3",
   "version": "3.11.2"
  }
 },
 "nbformat": 4,
 "nbformat_minor": 5
}
