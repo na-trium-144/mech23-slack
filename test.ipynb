{
 "cells": [
  {
   "cell_type": "code",
   "execution_count": 34,
   "id": "3ebaacc7-ce3f-4da8-8dc0-b3471dc50245",
   "metadata": {
    "tags": []
   },
   "outputs": [
    {
     "data": {
      "text/plain": [
       "True"
      ]
     },
     "execution_count": 34,
     "metadata": {},
     "output_type": "execute_result"
    }
   ],
   "source": [
    "from dotenv import load_dotenv\n",
    "load_dotenv()  # take environment variables from .env."
   ]
  },
  {
   "cell_type": "code",
   "execution_count": 35,
   "id": "1ca7c937-840b-4944-94dc-87e60a6733c4",
   "metadata": {
    "tags": []
   },
   "outputs": [],
   "source": [
    "import os\n",
    "from slack_sdk import WebClient\n",
    "from slack_sdk.errors import SlackApiError"
   ]
  },
  {
   "cell_type": "code",
   "execution_count": 36,
   "id": "22cf91c4-21b0-41c5-b9ea-fa07b1e86a28",
   "metadata": {
    "tags": []
   },
   "outputs": [],
   "source": [
    "# WebClient instantiates a client that can call API methods\n",
    "# When using Bolt, you can use either `app.client` or the `client` passed to listeners.\n",
    "client = WebClient(token=os.environ.get(\"SLACK_BOT_TOKEN\"))"
   ]
  },
  {
   "cell_type": "markdown",
   "id": "5c3d4394-089b-4dbe-9904-e42f84b019f2",
   "metadata": {},
   "source": [
    "ここまで必要↑"
   ]
  },
  {
   "cell_type": "code",
   "execution_count": 12,
   "id": "b121a170-836f-49c7-9606-b78f1af433ce",
   "metadata": {
    "tags": []
   },
   "outputs": [],
   "source": [
    "channel_id = \"C04UNBSBRJT\" # test"
   ]
  },
  {
   "cell_type": "code",
   "execution_count": 8,
   "id": "a88fab13-5630-4823-aed1-6a47b232dac5",
   "metadata": {
    "tags": []
   },
   "outputs": [],
   "source": [
    "try:\n",
    "    # Call the conversations.list method using the WebClient\n",
    "    result = client.chat_postMessage(\n",
    "        channel=channel_id,\n",
    "        text=\"Hello world!\"\n",
    "        # You could also use a blocks[] array to send richer content\n",
    "    )\n",
    "    # Print result, which includes information about the message (like TS)\n",
    "    # print(result)\n",
    "\n",
    "except SlackApiError as e:\n",
    "    print(f\"Error: {e}\")"
   ]
  },
  {
   "cell_type": "code",
   "execution_count": 6,
   "id": "de6a618a-ddb3-459d-83af-98b07a0558c5",
   "metadata": {
    "tags": []
   },
   "outputs": [],
   "source": [
    "l = client.users_list()"
   ]
  },
  {
   "cell_type": "code",
   "execution_count": null,
   "id": "18affc9b-3727-4670-a4ed-04a20201a44e",
   "metadata": {
    "tags": []
   },
   "outputs": [],
   "source": [
    "print(len(l['members']))\n",
    "print(\"\\n\".join([f\"{m['id']}: {m['name']}\" for m in l[\"members\"]]))"
   ]
  },
  {
   "cell_type": "code",
   "execution_count": 17,
   "id": "e079b807-fcbb-41ae-9845-045e19f685d6",
   "metadata": {
    "tags": []
   },
   "outputs": [
    {
     "name": "stdout",
     "output_type": "stream",
     "text": [
      "Error: The request to the Slack API failed. (url: https://www.slack.com/api/conversations.invite)\n",
      "The server responded with: {'ok': False, 'error': 'already_in_channel'}\n"
     ]
    }
   ],
   "source": [
    "# 招待\n",
    "try:\n",
    "    client.conversations_invite(channel=channel_id, users=[\"U044M8GT02Y\"])\n",
    "except SlackApiError as e:\n",
    "    print(f\"Error: {e}\")"
   ]
  },
  {
   "cell_type": "code",
   "execution_count": 6,
   "id": "df81f917-3834-43ec-a18a-096fb8b98622",
   "metadata": {
    "tags": []
   },
   "outputs": [],
   "source": [
    "cl = client.conversations_list()['channels']"
   ]
  },
  {
   "cell_type": "code",
   "execution_count": null,
   "id": "1594b106-3427-468f-88c8-b3cccc88bb85",
   "metadata": {
    "tags": []
   },
   "outputs": [],
   "source": [
    "# チャンネルのアーカイブ\n",
    "for c in cl:\n",
    "    if c['name'].startswith(\"2a_\"):\n",
    "        print(c['id'], c['name'])\n",
    "        try:\n",
    "            client.conversations_join(channel=c['id'])\n",
    "        except SlackApiError as e:\n",
    "            print(e)\n",
    "        try:\n",
    "            client.conversations_archive(channel=c['id'])\n",
    "        except SlackApiError as e:\n",
    "            print(f\"Error: {e}\")"
   ]
  },
  {
   "cell_type": "code",
   "execution_count": 32,
   "id": "a8ece176-3318-4d90-874e-dd4efdf4cdec",
   "metadata": {
    "tags": []
   },
   "outputs": [],
   "source": [
    "# 全員をチャンネルに招待するdef\n",
    "import time\n",
    "def invite_all_impl(channel_id):\n",
    "    print(f\"invite_all to {channel_id}\")\n",
    "    try:\n",
    "        member_list = client.users_list()\n",
    "    except SlackApiError as e:\n",
    "        print(f\"Error: {e}\")\n",
    "        return\n",
    "    try:\n",
    "        client.conversations_join(channel=channel_id)\n",
    "    except SlackApiError as e:\n",
    "        print(f\"Error: {e}\")\n",
    "    for m in member_list['members']:\n",
    "        time.sleep(60/50)\n",
    "        print(f\"invite {m['id']}: {m['name']}\")\n",
    "        try:\n",
    "            client.conversations_invite(channel=channel_id, users=[m['id']])\n",
    "        except SlackApiError as e:\n",
    "            print(f\"Error: {e}\")\n"
   ]
  },
  {
   "cell_type": "code",
   "execution_count": 20,
   "id": "0f4b1893-17de-4042-a273-4d34ef3f3c0b",
   "metadata": {
    "tags": []
   },
   "outputs": [],
   "source": [
    "# チャンネル作成\n",
    "channels_to_create_and_invite = [\n",
    "]\n",
    "channels_to_create_only = [\n",
    "]"
   ]
  },
  {
   "cell_type": "code",
   "execution_count": 6,
   "id": "54f4fafa-23b2-4bc5-ab97-7d6456d3af85",
   "metadata": {
    "tags": []
   },
   "outputs": [],
   "source": [
    "created = []\n",
    "invited = []"
   ]
  },
  {
   "cell_type": "code",
   "execution_count": null,
   "id": "c969807f-bea8-4703-a7d9-e6e2b48181d2",
   "metadata": {
    "tags": []
   },
   "outputs": [],
   "source": [
    "for c in channels_to_create_only:\n",
    "    print(c)\n",
    "    try:\n",
    "        res = client.conversations_create(name=c)\n",
    "        created.append(res[\"channel\"])\n",
    "    except SlackApiError as e:\n",
    "        print(f\"error: {e}\")\n",
    "\n",
    "invited = []\n",
    "for c in channels_to_create_and_invite:\n",
    "    print(c)\n",
    "    try:\n",
    "        res = client.conversations_create(name=c)\n",
    "    except SlackApiError as e:\n",
    "        print(f\"error: {e}\")\n",
    "    try:\n",
    "        channels = client.conversations_list(exclude_archived=True)[\"channels\"]\n",
    "        channel = [cc for cc in channels if cc[\"name\"] == c]\n",
    "        if len(channel) == 1:\n",
    "            invite_all_impl(channel[0][\"id\"])\n",
    "            invited.append(channel[0])\n",
    "        else:\n",
    "            print(\"channel not found\")\n",
    "    except SlackApiError as e:\n",
    "        print(f\"error: {e}\")\n",
    "        \n",
    "\n",
    "channel_id = \"C043YV4M8LC\" # general\n",
    "text = \"以下のチャンネルを作成して全員招待しました:\\n\"\n",
    "for c in invited:\n",
    "    text += f\"<#{c['id']}>\\n\"\n",
    "text += \"\\n以下のチャンネルを作成しました:\\n\"\n",
    "for c in created:\n",
    "    text += f\"<#{c['id']}>\\n\"\n",
    "try:\n",
    "    result = client.chat_postMessage(\n",
    "        channel=channel_id,\n",
    "        text=text\n",
    "    )\n",
    "except SlackApiError as e:\n",
    "    print(f\"Error: {e}\")"
   ]
  },
  {
   "cell_type": "code",
   "execution_count": 16,
   "id": "a976a7f2-44b3-44e3-b367-8886a67ebbd4",
   "metadata": {
    "tags": []
   },
   "outputs": [],
   "source": [
    "channel_id = \"C043YV4M8LC\" # general"
   ]
  }
 ],
 "metadata": {
  "kernelspec": {
   "display_name": "Python 3 (ipykernel)",
   "language": "python",
   "name": "python3"
  },
  "language_info": {
   "codemirror_mode": {
    "name": "ipython",
    "version": 3
   },
   "file_extension": ".py",
   "mimetype": "text/x-python",
   "name": "python",
   "nbconvert_exporter": "python",
   "pygments_lexer": "ipython3",
   "version": "3.11.3"
  }
 },
 "nbformat": 4,
 "nbformat_minor": 5
}
