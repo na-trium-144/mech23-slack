{
 "cells": [
  {
   "cell_type": "code",
   "execution_count": 1,
   "id": "3ebaacc7-ce3f-4da8-8dc0-b3471dc50245",
   "metadata": {
    "tags": []
   },
   "outputs": [
    {
     "data": {
      "text/plain": [
       "True"
      ]
     },
     "execution_count": 1,
     "metadata": {},
     "output_type": "execute_result"
    }
   ],
   "source": [
    "from dotenv import load_dotenv\n",
    "load_dotenv()  # take environment variables from .env."
   ]
  },
  {
   "cell_type": "code",
   "execution_count": 2,
   "id": "1ca7c937-840b-4944-94dc-87e60a6733c4",
   "metadata": {
    "tags": []
   },
   "outputs": [],
   "source": [
    "import os\n",
    "from slack_sdk import WebClient\n",
    "from slack_sdk.errors import SlackApiError"
   ]
  },
  {
   "cell_type": "code",
   "execution_count": 3,
   "id": "22cf91c4-21b0-41c5-b9ea-fa07b1e86a28",
   "metadata": {
    "tags": []
   },
   "outputs": [],
   "source": [
    "# WebClient instantiates a client that can call API methods\n",
    "# When using Bolt, you can use either `app.client` or the `client` passed to listeners.\n",
    "client = WebClient(token=os.environ.get(\"SLACK_BOT_TOKEN\"))"
   ]
  },
  {
   "cell_type": "code",
   "execution_count": 4,
   "id": "b121a170-836f-49c7-9606-b78f1af433ce",
   "metadata": {
    "tags": []
   },
   "outputs": [],
   "source": [
    "channel_id = \"C04UNBSBRJT\""
   ]
  },
  {
   "cell_type": "code",
   "execution_count": 8,
   "id": "a88fab13-5630-4823-aed1-6a47b232dac5",
   "metadata": {
    "tags": []
   },
   "outputs": [],
   "source": [
    "try:\n",
    "    # Call the conversations.list method using the WebClient\n",
    "    result = client.chat_postMessage(\n",
    "        channel=channel_id,\n",
    "        text=\"Hello world!\"\n",
    "        # You could also use a blocks[] array to send richer content\n",
    "    )\n",
    "    # Print result, which includes information about the message (like TS)\n",
    "    # print(result)\n",
    "\n",
    "except SlackApiError as e:\n",
    "    print(f\"Error: {e}\")"
   ]
  },
  {
   "cell_type": "code",
   "execution_count": 6,
   "id": "de6a618a-ddb3-459d-83af-98b07a0558c5",
   "metadata": {
    "tags": []
   },
   "outputs": [],
   "source": [
    "l = client.users_list()"
   ]
  },
  {
   "cell_type": "code",
   "execution_count": null,
   "id": "18affc9b-3727-4670-a4ed-04a20201a44e",
   "metadata": {
    "tags": []
   },
   "outputs": [],
   "source": [
    "print(len(l['members']))\n",
    "print(\"\\n\".join([f\"{m['id']}: {m['name']}\" for m in l[\"members\"]]))"
   ]
  },
  {
   "cell_type": "code",
   "execution_count": 17,
   "id": "e079b807-fcbb-41ae-9845-045e19f685d6",
   "metadata": {
    "tags": []
   },
   "outputs": [
    {
     "name": "stdout",
     "output_type": "stream",
     "text": [
      "Error: The request to the Slack API failed. (url: https://www.slack.com/api/conversations.invite)\n",
      "The server responded with: {'ok': False, 'error': 'already_in_channel'}\n"
     ]
    }
   ],
   "source": [
    "try:\n",
    "    client.conversations_invite(channel=channel_id, users=[\"U044M8GT02Y\"])\n",
    "except SlackApiError as e:\n",
    "    print(f\"Error: {e}\")"
   ]
  },
  {
   "cell_type": "code",
   "execution_count": null,
   "id": "1594b106-3427-468f-88c8-b3cccc88bb85",
   "metadata": {},
   "outputs": [],
   "source": []
  }
 ],
 "metadata": {
  "kernelspec": {
   "display_name": "Python 3 (ipykernel)",
   "language": "python",
   "name": "python3"
  },
  "language_info": {
   "codemirror_mode": {
    "name": "ipython",
    "version": 3
   },
   "file_extension": ".py",
   "mimetype": "text/x-python",
   "name": "python",
   "nbconvert_exporter": "python",
   "pygments_lexer": "ipython3",
   "version": "3.11.2"
  }
 },
 "nbformat": 4,
 "nbformat_minor": 5
}
